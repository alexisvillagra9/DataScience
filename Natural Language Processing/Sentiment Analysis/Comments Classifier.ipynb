{
 "cells": [
  {
   "cell_type": "code",
   "execution_count": 1,
   "metadata": {},
   "outputs": [
    {
     "name": "stderr",
     "output_type": "stream",
     "text": [
      "C:\\Users\\Usuario\\Miniconda3\\envs\\DataScience\\lib\\site-packages\\sklearn\\externals\\joblib\\__init__.py:15: DeprecationWarning: sklearn.externals.joblib is deprecated in 0.21 and will be removed in 0.23. Please import this functionality directly from joblib, which can be installed with: pip install joblib. If this warning is raised when loading pickled models, you may need to re-serialize those models with scikit-learn 0.21+.\n",
      "  warnings.warn(msg, category=DeprecationWarning)\n"
     ]
    }
   ],
   "source": [
    "#Seccion de importacion\n",
    "import pandas as pd\n",
    "from nltk.tokenize import word_tokenize,sent_tokenize\n",
    "from sklearn.model_selection import train_test_split\n",
    "from sklearn.feature_extraction.text import TfidfVectorizer\n",
    "from nltk.corpus import stopwords\n",
    "from nltk.stem import SnowballStemmer\n",
    "from string import punctuation\n",
    "from sklearn.neural_network import MLPClassifier\n",
    "from sklearn.metrics import confusion_matrix, classification_report\n",
    "from sklearn.model_selection import GridSearchCV\n",
    "from sklearn.externals import joblib"
   ]
  },
  {
   "cell_type": "code",
   "execution_count": 2,
   "metadata": {},
   "outputs": [],
   "source": [
    "#Rutas y Variables Globales\n",
    "com_neg='./Dataset/tweets_neg_clean.txt'\n",
    "com_pos='./Dataset/tweets_pos_clean.txt'\n",
    "spanish_stopwords = stopwords.words('spanish')\n",
    "stemmer = SnowballStemmer('spanish')\n",
    "non_words = list(punctuation)\n",
    "non_words.extend(['¿', '¡'])\n",
    "non_words.extend(map(str,range(10)))\n",
    "stemmer = SnowballStemmer('spanish')"
   ]
  },
  {
   "cell_type": "code",
   "execution_count": 3,
   "metadata": {},
   "outputs": [],
   "source": [
    "#Carga de DataSets\n",
    "df1 = open(com_neg, \"r\",encoding=\"utf8\")\n",
    "neg = df1.readlines()\n",
    "df1.close()\n",
    "\n",
    "df2 = open(com_pos, \"r\",encoding=\"utf8\")\n",
    "pos = df2.readlines()\n",
    "df2.close()"
   ]
  },
  {
   "cell_type": "code",
   "execution_count": 4,
   "metadata": {},
   "outputs": [],
   "source": [
    "#Tratmiento para convertir DataFrame\n",
    "def dfConverter(com,cla):\n",
    "    dfG = pd.DataFrame(com) \n",
    "    dfG[\"Class\"]=cla\n",
    "    #dfG.rename(index={0: \"Comments\",1: \"Comments\"})\n",
    "    return dfG\n",
    "    "
   ]
  },
  {
   "cell_type": "code",
   "execution_count": 5,
   "metadata": {},
   "outputs": [],
   "source": [
    "def dfUnion(df1,df2):\n",
    "    dfFinal=df1.append(df2, ignore_index=True)\n",
    "    #Renombramos bien las columnas\n",
    "    dfFinal.columns=['Comments', 'Class']\n",
    "    return dfFinal"
   ]
  },
  {
   "cell_type": "code",
   "execution_count": 6,
   "metadata": {},
   "outputs": [],
   "source": [
    "def stem_tokens(tokens, stemmer):\n",
    "    stemmed = []\n",
    "    for item in tokens:\n",
    "        stemmed.append(stemmer.stem(item))\n",
    "    return stemmed\n",
    "def tokenize(text):\n",
    "    text = ''.join([c for c in text if c not in non_words])\n",
    "    tokens =  word_tokenize(text)\n",
    "    # stem\n",
    "    try:\n",
    "        stems = stem_tokens(tokens, stemmer)\n",
    "    except Exception as e:\n",
    "        print(e)\n",
    "        print(text)\n",
    "        stems = ['']\n",
    "    return stems"
   ]
  },
  {
   "cell_type": "code",
   "execution_count": 7,
   "metadata": {},
   "outputs": [
    {
     "name": "stdout",
     "output_type": "stream",
     "text": [
      "(122216, 2)\n",
      "(55360, 2)\n"
     ]
    },
    {
     "data": {
      "text/plain": [
       "(177576, 2)"
      ]
     },
     "execution_count": 7,
     "metadata": {},
     "output_type": "execute_result"
    }
   ],
   "source": [
    "#Voy a convertir a numero la clasificacion donde 0 sera negativo y 1 positivo\n",
    "\n",
    "dfNeg = dfConverter(neg,0);\n",
    "print(dfNeg.shape)\n",
    "\n",
    "dfPos=dfConverter(pos,1);\n",
    "print(dfPos.shape)\n",
    "\n",
    "#Ahora unimos ambos dataSet\n",
    "dfFinal=dfUnion(dfNeg,dfPos);\n",
    "dfFinal.shape"
   ]
  },
  {
   "cell_type": "code",
   "execution_count": 8,
   "metadata": {},
   "outputs": [
    {
     "data": {
      "text/html": [
       "<div>\n",
       "<style scoped>\n",
       "    .dataframe tbody tr th:only-of-type {\n",
       "        vertical-align: middle;\n",
       "    }\n",
       "\n",
       "    .dataframe tbody tr th {\n",
       "        vertical-align: top;\n",
       "    }\n",
       "\n",
       "    .dataframe thead th {\n",
       "        text-align: right;\n",
       "    }\n",
       "</style>\n",
       "<table border=\"1\" class=\"dataframe\">\n",
       "  <thead>\n",
       "    <tr style=\"text-align: right;\">\n",
       "      <th></th>\n",
       "      <th>Comments</th>\n",
       "      <th>Class</th>\n",
       "    </tr>\n",
       "  </thead>\n",
       "  <tbody>\n",
       "    <tr>\n",
       "      <th>0</th>\n",
       "      <td>Cordobés porque me la complicaste con el cosen...</td>\n",
       "      <td>0</td>\n",
       "    </tr>\n",
       "    <tr>\n",
       "      <th>1</th>\n",
       "      <td>Tengo fiebre :(\\n</td>\n",
       "      <td>0</td>\n",
       "    </tr>\n",
       "    <tr>\n",
       "      <th>2</th>\n",
       "      <td>@sooooyderiver dame bola :(\\n</td>\n",
       "      <td>0</td>\n",
       "    </tr>\n",
       "    <tr>\n",
       "      <th>3</th>\n",
       "      <td>Quiero bailar salsa :(\\n</td>\n",
       "      <td>0</td>\n",
       "    </tr>\n",
       "    <tr>\n",
       "      <th>4</th>\n",
       "      <td>Metal Gear. :(\\n</td>\n",
       "      <td>0</td>\n",
       "    </tr>\n",
       "    <tr>\n",
       "      <th>...</th>\n",
       "      <td>...</td>\n",
       "      <td>...</td>\n",
       "    </tr>\n",
       "    <tr>\n",
       "      <th>177571</th>\n",
       "      <td>Acá cocinandole a mi Hno :)\\n</td>\n",
       "      <td>1</td>\n",
       "    </tr>\n",
       "    <tr>\n",
       "      <th>177572</th>\n",
       "      <td>@nyazfthes Gracias por seguirme, en breve te d...</td>\n",
       "      <td>1</td>\n",
       "    </tr>\n",
       "    <tr>\n",
       "      <th>177573</th>\n",
       "      <td>Y ahora no podré dormir :)))))))\\n</td>\n",
       "      <td>1</td>\n",
       "    </tr>\n",
       "    <tr>\n",
       "      <th>177574</th>\n",
       "      <td>En la Boca :) @ Estadio Boca Juniors https://t...</td>\n",
       "      <td>1</td>\n",
       "    </tr>\n",
       "    <tr>\n",
       "      <th>177575</th>\n",
       "      <td>Goooooooooooool La concha de la lora , Vamos M...</td>\n",
       "      <td>1</td>\n",
       "    </tr>\n",
       "  </tbody>\n",
       "</table>\n",
       "<p>177576 rows × 2 columns</p>\n",
       "</div>"
      ],
      "text/plain": [
       "                                                 Comments  Class\n",
       "0       Cordobés porque me la complicaste con el cosen...      0\n",
       "1                                       Tengo fiebre :(\\n      0\n",
       "2                           @sooooyderiver dame bola :(\\n      0\n",
       "3                                Quiero bailar salsa :(\\n      0\n",
       "4                                        Metal Gear. :(\\n      0\n",
       "...                                                   ...    ...\n",
       "177571                      Acá cocinandole a mi Hno :)\\n      1\n",
       "177572  @nyazfthes Gracias por seguirme, en breve te d...      1\n",
       "177573                 Y ahora no podré dormir :)))))))\\n      1\n",
       "177574  En la Boca :) @ Estadio Boca Juniors https://t...      1\n",
       "177575  Goooooooooooool La concha de la lora , Vamos M...      1\n",
       "\n",
       "[177576 rows x 2 columns]"
      ]
     },
     "execution_count": 8,
     "metadata": {},
     "output_type": "execute_result"
    }
   ],
   "source": [
    "dfFinal"
   ]
  },
  {
   "cell_type": "code",
   "execution_count": 9,
   "metadata": {},
   "outputs": [],
   "source": [
    "#Separamos dataset en train y test\n",
    "X_train, X_test, y_train, y_test = train_test_split(\n",
    "    dfFinal['Comments'], dfFinal['Class'], test_size = 0.20, stratify=dfFinal['Class'], random_state = 12)"
   ]
  },
  {
   "cell_type": "code",
   "execution_count": 10,
   "metadata": {},
   "outputs": [
    {
     "name": "stdout",
     "output_type": "stream",
     "text": [
      "65153     🎡 @Estrella_Pique 🎡.-5./Tu icon, ti bio, me pu...\n",
      "165250                   Tal vez en la siguiente vida. :)\\n\n",
      "21427                      @belenrojas67 amiga te creo :(\\n\n",
      "86263     Estoy peor que una niña de 10 años cuando le g...\n",
      "160265    Cortaste tan profundo... que te  amputaste de ...\n",
      "                                ...                        \n",
      "103856    Que ladilla no tener renta y que cuando agarra...\n",
      "92569                            que pereza mas tareas :(\\n\n",
      "155855             El jueves es el cumpleaños de Aguus :)\\n\n",
      "116858    513. Bueno bueno, eres maja, te gusta Digimon,...\n",
      "120516    Jovani, quitame el block :( https://t.co/I2kGw...\n",
      "Name: Comments, Length: 142060, dtype: object\n",
      "167493    @pupimartinezok @Agustin_Ocampo Es mucho traba...\n",
      "37578     Jeje no he hecho desde antier :( https://t.co/...\n",
      "172278             Se aceptan facturas por las mañanas :)\\n\n",
      "86717     #DomingoDeGanarSeguidores que quieran un monit...\n",
      "81576                     @CRUSTACEO ay ya no me pelas :(\\n\n",
      "                                ...                        \n",
      "173037    Robin a partir de hoy tendrás mi batimovil. Re...\n",
      "104143    @JennyVanessa13 esta difícil :( y no entendí e...\n",
      "100397    Dormido y zaz, me despierto :( maldita sea la ...\n",
      "23580             Tengo miedo de no despertarme mañana :(\\n\n",
      "43154     @keikaratsu no nena mi madre no tenía ni mis h...\n",
      "Name: Comments, Length: 35516, dtype: object\n",
      "65153     0\n",
      "165250    1\n",
      "21427     0\n",
      "86263     0\n",
      "160265    1\n",
      "         ..\n",
      "103856    0\n",
      "92569     0\n",
      "155855    1\n",
      "116858    0\n",
      "120516    0\n",
      "Name: Class, Length: 142060, dtype: int64\n",
      "167493    1\n",
      "37578     0\n",
      "172278    1\n",
      "86717     0\n",
      "81576     0\n",
      "         ..\n",
      "173037    1\n",
      "104143    0\n",
      "100397    0\n",
      "23580     0\n",
      "43154     0\n",
      "Name: Class, Length: 35516, dtype: int64\n"
     ]
    }
   ],
   "source": [
    "print(X_train)\n",
    "print(X_test)\n",
    "print(y_train)\n",
    "print(y_test)"
   ]
  },
  {
   "cell_type": "code",
   "execution_count": 11,
   "metadata": {},
   "outputs": [],
   "source": [
    "#Hacemos uso del TFIDF\n",
    "vectorizer = TfidfVectorizer(analyzer = 'word',\n",
    "                tokenizer = tokenize,\n",
    "                lowercase = True,\n",
    "                stop_words = spanish_stopwords)"
   ]
  },
  {
   "cell_type": "code",
   "execution_count": 12,
   "metadata": {},
   "outputs": [
    {
     "name": "stderr",
     "output_type": "stream",
     "text": [
      "C:\\Users\\Usuario\\Miniconda3\\envs\\DataScience\\lib\\site-packages\\sklearn\\feature_extraction\\text.py:300: UserWarning: Your stop_words may be inconsistent with your preprocessing. Tokenizing the stop words generated tokens ['algun', 'com', 'contr', 'cuand', 'desd', 'dond', 'durant', 'eram', 'estab', 'estais', 'estam', 'estan', 'estand', 'estaran', 'estaras', 'esteis', 'estem', 'esten', 'estes', 'estuv', 'fuer', 'fues', 'fuim', 'fuist', 'hab', 'habr', 'habran', 'habras', 'hast', 'hem', 'hub', 'mas', 'mia', 'mias', 'mio', 'mios', 'much', 'nad', 'nosotr', 'nuestr', 'par', 'per', 'poc', 'porqu', 'qui', 'seais', 'seam', 'sent', 'ser', 'seran', 'seras', 'si', 'sient', 'sint', 'sobr', 'som', 'suy', 'tambien', 'tant', 'ten', 'tendr', 'tendran', 'tendras', 'teng', 'tien', 'tod', 'tuv', 'tuy', 'vosotr', 'vuestr'] not in stop_words.\n",
      "  'stop_words.' % sorted(inconsistent))\n"
     ]
    }
   ],
   "source": [
    "X_train_vectorizer = vectorizer.fit_transform(X_train)\n",
    "X_test_vectorizer = vectorizer.transform(X_test)"
   ]
  },
  {
   "cell_type": "code",
   "execution_count": 13,
   "metadata": {},
   "outputs": [],
   "source": [
    "#Creamos el modelos que sera una red neuronal multicapa dentro de un gridsearch\n",
    "parametersMLP = [\n",
    "              {'hidden_layer_sizes': [(10,)]}\n",
    "              ]\n",
    "\n",
    "clfMLP = MLPClassifier()"
   ]
  },
  {
   "cell_type": "code",
   "execution_count": 14,
   "metadata": {},
   "outputs": [
    {
     "name": "stderr",
     "output_type": "stream",
     "text": [
      "C:\\Users\\Usuario\\Miniconda3\\envs\\DataScience\\lib\\site-packages\\sklearn\\neural_network\\multilayer_perceptron.py:566: ConvergenceWarning: Stochastic Optimizer: Maximum iterations (200) reached and the optimization hasn't converged yet.\n",
      "  % self.max_iter, ConvergenceWarning)\n",
      "C:\\Users\\Usuario\\Miniconda3\\envs\\DataScience\\lib\\site-packages\\sklearn\\neural_network\\multilayer_perceptron.py:566: ConvergenceWarning: Stochastic Optimizer: Maximum iterations (200) reached and the optimization hasn't converged yet.\n",
      "  % self.max_iter, ConvergenceWarning)\n",
      "C:\\Users\\Usuario\\Miniconda3\\envs\\DataScience\\lib\\site-packages\\sklearn\\neural_network\\multilayer_perceptron.py:566: ConvergenceWarning: Stochastic Optimizer: Maximum iterations (200) reached and the optimization hasn't converged yet.\n",
      "  % self.max_iter, ConvergenceWarning)\n",
      "C:\\Users\\Usuario\\Miniconda3\\envs\\DataScience\\lib\\site-packages\\sklearn\\neural_network\\multilayer_perceptron.py:566: ConvergenceWarning: Stochastic Optimizer: Maximum iterations (200) reached and the optimization hasn't converged yet.\n",
      "  % self.max_iter, ConvergenceWarning)\n",
      "C:\\Users\\Usuario\\Miniconda3\\envs\\DataScience\\lib\\site-packages\\sklearn\\neural_network\\multilayer_perceptron.py:566: ConvergenceWarning: Stochastic Optimizer: Maximum iterations (200) reached and the optimization hasn't converged yet.\n",
      "  % self.max_iter, ConvergenceWarning)\n",
      "C:\\Users\\Usuario\\Miniconda3\\envs\\DataScience\\lib\\site-packages\\sklearn\\neural_network\\multilayer_perceptron.py:566: ConvergenceWarning: Stochastic Optimizer: Maximum iterations (200) reached and the optimization hasn't converged yet.\n",
      "  % self.max_iter, ConvergenceWarning)\n"
     ]
    },
    {
     "data": {
      "text/plain": [
       "GridSearchCV(cv=5, error_score='raise-deprecating',\n",
       "             estimator=MLPClassifier(activation='relu', alpha=0.0001,\n",
       "                                     batch_size='auto', beta_1=0.9,\n",
       "                                     beta_2=0.999, early_stopping=False,\n",
       "                                     epsilon=1e-08, hidden_layer_sizes=(100,),\n",
       "                                     learning_rate='constant',\n",
       "                                     learning_rate_init=0.001, max_iter=200,\n",
       "                                     momentum=0.9, n_iter_no_change=10,\n",
       "                                     nesterovs_momentum=True, power_t=0.5,\n",
       "                                     random_state=None, shuffle=True,\n",
       "                                     solver='adam', tol=0.0001,\n",
       "                                     validation_fraction=0.1, verbose=False,\n",
       "                                     warm_start=False),\n",
       "             iid='warn', n_jobs=None,\n",
       "             param_grid=[{'hidden_layer_sizes': [(10,)]}],\n",
       "             pre_dispatch='2*n_jobs', refit=True, return_train_score=False,\n",
       "             scoring='roc_auc', verbose=0)"
      ]
     },
     "execution_count": 14,
     "metadata": {},
     "output_type": "execute_result"
    }
   ],
   "source": [
    "grid_searchMLP = GridSearchCV(estimator=clfMLP, param_grid=parametersMLP, cv=5, scoring='roc_auc')\n",
    "grid_searchMLP.fit(X_train_vectorizer, y_train)"
   ]
  },
  {
   "cell_type": "code",
   "execution_count": 15,
   "metadata": {},
   "outputs": [
    {
     "data": {
      "text/plain": [
       "{'hidden_layer_sizes': (10,)}"
      ]
     },
     "execution_count": 15,
     "metadata": {},
     "output_type": "execute_result"
    }
   ],
   "source": [
    "#Me interesa saber cual es el mejor parametro\n",
    "grid_searchMLP.best_params_"
   ]
  },
  {
   "cell_type": "code",
   "execution_count": 16,
   "metadata": {},
   "outputs": [],
   "source": [
    "optimised_MLP = grid_searchMLP.best_estimator_\n",
    "y_pred_opt_MLP = optimised_MLP.predict(X_test_vectorizer)"
   ]
  },
  {
   "cell_type": "code",
   "execution_count": 17,
   "metadata": {},
   "outputs": [
    {
     "name": "stdout",
     "output_type": "stream",
     "text": [
      "              precision    recall  f1-score   support\n",
      "\n",
      "           0       0.81      0.83      0.82     24444\n",
      "           1       0.61      0.58      0.60     11072\n",
      "\n",
      "    accuracy                           0.75     35516\n",
      "   macro avg       0.71      0.71      0.71     35516\n",
      "weighted avg       0.75      0.75      0.75     35516\n",
      "\n"
     ]
    }
   ],
   "source": [
    "print(classification_report(y_test, y_pred_opt_MLP))"
   ]
  },
  {
   "cell_type": "code",
   "execution_count": 52,
   "metadata": {},
   "outputs": [],
   "source": [
    "def showPrediction(newcomments):\n",
    "    tfidf_vect=vectorizer\n",
    "    comments_new_counts = tfidf_vect.transform(newcomments)\n",
    "    comments_new_tfidf = tfidf_vect.transform(newcomments)\n",
    "    pred = optimised_MLP.predict(comments_new_tfidf)\n",
    "    for com, classi in zip(newcomments, pred):\n",
    "        if classi==0: \n",
    "            clasString='Negativo' \n",
    "        else: \n",
    "            clasString='Positivo'\n",
    "        print('%r => %s \\n' % (com, clasString))"
   ]
  },
  {
   "cell_type": "code",
   "execution_count": 55,
   "metadata": {},
   "outputs": [
    {
     "name": "stdout",
     "output_type": "stream",
     "text": [
      "'Te odio' => Negativo \n",
      "\n",
      "'Estoy feliz' => Positivo \n",
      "\n",
      "'Tengo hambre' => Negativo \n",
      "\n",
      "'Me gustaria que la gente piense mas en el projimo y deje de pensar tanto en si mismo' => Positivo \n",
      "\n"
     ]
    }
   ],
   "source": [
    "#Creamos una lista con los nuevos comentarios para clasificar\n",
    "newcomments = [\"Te odio\",\n",
    "              \"Estoy feliz\",\n",
    "              \"Tengo hambre\",\n",
    "              \"Me gustaria que la gente piense mas en el projimo y deje de pensar tanto en si mismo\"]\n",
    "\n",
    "#Y los mostramos con la funcion definida arriba\n",
    "showPrediction(newcomments)"
   ]
  },
  {
   "cell_type": "code",
   "execution_count": 20,
   "metadata": {
    "scrolled": true
   },
   "outputs": [
    {
     "data": {
      "text/plain": [
       "['sentiment.pkl']"
      ]
     },
     "execution_count": 20,
     "metadata": {},
     "output_type": "execute_result"
    }
   ],
   "source": [
    "##Exportamos el modelo a pkl\n",
    "joblib.dump(optimised_MLP, 'sentiment.pkl') "
   ]
  }
 ],
 "metadata": {
  "kernelspec": {
   "display_name": "Python 3",
   "language": "python",
   "name": "python3"
  },
  "language_info": {
   "codemirror_mode": {
    "name": "ipython",
    "version": 3
   },
   "file_extension": ".py",
   "mimetype": "text/x-python",
   "name": "python",
   "nbconvert_exporter": "python",
   "pygments_lexer": "ipython3",
   "version": "3.7.5"
  }
 },
 "nbformat": 4,
 "nbformat_minor": 2
}
