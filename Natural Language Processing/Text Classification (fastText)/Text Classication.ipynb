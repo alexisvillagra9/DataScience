{
 "cells": [
  {
   "cell_type": "code",
   "execution_count": 1,
   "metadata": {},
   "outputs": [],
   "source": [
    "#Celdas de importaciones\n",
    "import pandas as pd\n",
    "from fastText import train_supervised\n",
    "from sklearn.model_selection import cross_val_score\n",
    "from sklearn.model_selection import train_test_split\n",
    "from string import punctuation\n",
    "from nltk.corpus import stopwords"
   ]
  },
  {
   "cell_type": "code",
   "execution_count": 21,
   "metadata": {},
   "outputs": [],
   "source": [
    "#Seteo de variables globales\n",
    "ds_path='./Dataset/Comentarios para clasificar.xls'\n",
    "trainPath='./Resources/train.txt'\n",
    "testPath='./Resources/test.txt'\n",
    "outputPath='./Resources/output.txt'"
   ]
  },
  {
   "cell_type": "code",
   "execution_count": 3,
   "metadata": {},
   "outputs": [
    {
     "data": {
      "text/html": [
       "<div>\n",
       "<style scoped>\n",
       "    .dataframe tbody tr th:only-of-type {\n",
       "        vertical-align: middle;\n",
       "    }\n",
       "\n",
       "    .dataframe tbody tr th {\n",
       "        vertical-align: top;\n",
       "    }\n",
       "\n",
       "    .dataframe thead th {\n",
       "        text-align: right;\n",
       "    }\n",
       "</style>\n",
       "<table border=\"1\" class=\"dataframe\">\n",
       "  <thead>\n",
       "    <tr style=\"text-align: right;\">\n",
       "      <th></th>\n",
       "      <th>Comentario</th>\n",
       "      <th>Clasficacion</th>\n",
       "    </tr>\n",
       "  </thead>\n",
       "  <tbody>\n",
       "    <tr>\n",
       "      <th>0</th>\n",
       "      <td>‼️Del 10 al 20 de Septiembre‼️\\nDisfruta del B...</td>\n",
       "      <td>NO</td>\n",
       "    </tr>\n",
       "    <tr>\n",
       "      <th>1</th>\n",
       "      <td>\"AHORA SI GUERRA CIVIL\"!\\nPor Favor oremos por...</td>\n",
       "      <td>NO</td>\n",
       "    </tr>\n",
       "    <tr>\n",
       "      <th>2</th>\n",
       "      <td>\"L' qui mi estudio di 20 anni non realiza lo v...</td>\n",
       "      <td>NO</td>\n",
       "    </tr>\n",
       "    <tr>\n",
       "      <th>3</th>\n",
       "      <td>##La población Boliviana denuncia los dieferen...</td>\n",
       "      <td>NO</td>\n",
       "    </tr>\n",
       "    <tr>\n",
       "      <th>4</th>\n",
       "      <td>#AberturasAlCosto.\\nDirección Perú esquina Cos...</td>\n",
       "      <td>NO</td>\n",
       "    </tr>\n",
       "    <tr>\n",
       "      <th>...</th>\n",
       "      <td>...</td>\n",
       "      <td>...</td>\n",
       "    </tr>\n",
       "    <tr>\n",
       "      <th>1299</th>\n",
       "      <td>venta</td>\n",
       "      <td>SI</td>\n",
       "    </tr>\n",
       "    <tr>\n",
       "      <th>1300</th>\n",
       "      <td>Vi esta pilar centro muy grande'</td>\n",
       "      <td>SI</td>\n",
       "    </tr>\n",
       "    <tr>\n",
       "      <th>1301</th>\n",
       "      <td>X favor busco casa o departamento para arquila...</td>\n",
       "      <td>SI</td>\n",
       "    </tr>\n",
       "    <tr>\n",
       "      <th>1302</th>\n",
       "      <td>Ya está alquilado?', 'Esta alquilado???'</td>\n",
       "      <td>SI</td>\n",
       "    </tr>\n",
       "    <tr>\n",
       "      <th>1303</th>\n",
       "      <td>yo tengo un departamento', '3572 437960'</td>\n",
       "      <td>SI</td>\n",
       "    </tr>\n",
       "  </tbody>\n",
       "</table>\n",
       "<p>1304 rows × 2 columns</p>\n",
       "</div>"
      ],
      "text/plain": [
       "                                             Comentario Clasficacion\n",
       "0     ‼️Del 10 al 20 de Septiembre‼️\\nDisfruta del B...           NO\n",
       "1     \"AHORA SI GUERRA CIVIL\"!\\nPor Favor oremos por...           NO\n",
       "2     \"L' qui mi estudio di 20 anni non realiza lo v...           NO\n",
       "3     ##La población Boliviana denuncia los dieferen...           NO\n",
       "4     #AberturasAlCosto.\\nDirección Perú esquina Cos...           NO\n",
       "...                                                 ...          ...\n",
       "1299                                              venta           SI\n",
       "1300                   Vi esta pilar centro muy grande'           SI\n",
       "1301  X favor busco casa o departamento para arquila...           SI\n",
       "1302           Ya está alquilado?', 'Esta alquilado???'           SI\n",
       "1303           yo tengo un departamento', '3572 437960'           SI\n",
       "\n",
       "[1304 rows x 2 columns]"
      ]
     },
     "execution_count": 3,
     "metadata": {},
     "output_type": "execute_result"
    }
   ],
   "source": [
    "#Cargamos el Dataset\n",
    "df=pd.read_excel(ds_path)\n",
    "df"
   ]
  },
  {
   "cell_type": "code",
   "execution_count": 4,
   "metadata": {},
   "outputs": [
    {
     "data": {
      "text/html": [
       "<div>\n",
       "<style scoped>\n",
       "    .dataframe tbody tr th:only-of-type {\n",
       "        vertical-align: middle;\n",
       "    }\n",
       "\n",
       "    .dataframe tbody tr th {\n",
       "        vertical-align: top;\n",
       "    }\n",
       "\n",
       "    .dataframe thead th {\n",
       "        text-align: right;\n",
       "    }\n",
       "</style>\n",
       "<table border=\"1\" class=\"dataframe\">\n",
       "  <thead>\n",
       "    <tr style=\"text-align: right;\">\n",
       "      <th></th>\n",
       "      <th>Comentario</th>\n",
       "      <th>Clasficacion</th>\n",
       "    </tr>\n",
       "  </thead>\n",
       "  <tbody>\n",
       "    <tr>\n",
       "      <th>0</th>\n",
       "      <td>‼️Del 10 al 20 de Septiembre‼️\\nDisfruta del B...</td>\n",
       "      <td>0</td>\n",
       "    </tr>\n",
       "    <tr>\n",
       "      <th>1</th>\n",
       "      <td>\"AHORA SI GUERRA CIVIL\"!\\nPor Favor oremos por...</td>\n",
       "      <td>0</td>\n",
       "    </tr>\n",
       "    <tr>\n",
       "      <th>2</th>\n",
       "      <td>\"L' qui mi estudio di 20 anni non realiza lo v...</td>\n",
       "      <td>0</td>\n",
       "    </tr>\n",
       "    <tr>\n",
       "      <th>3</th>\n",
       "      <td>##La población Boliviana denuncia los dieferen...</td>\n",
       "      <td>0</td>\n",
       "    </tr>\n",
       "    <tr>\n",
       "      <th>4</th>\n",
       "      <td>#AberturasAlCosto.\\nDirección Perú esquina Cos...</td>\n",
       "      <td>0</td>\n",
       "    </tr>\n",
       "    <tr>\n",
       "      <th>...</th>\n",
       "      <td>...</td>\n",
       "      <td>...</td>\n",
       "    </tr>\n",
       "    <tr>\n",
       "      <th>1299</th>\n",
       "      <td>venta</td>\n",
       "      <td>1</td>\n",
       "    </tr>\n",
       "    <tr>\n",
       "      <th>1300</th>\n",
       "      <td>Vi esta pilar centro muy grande'</td>\n",
       "      <td>1</td>\n",
       "    </tr>\n",
       "    <tr>\n",
       "      <th>1301</th>\n",
       "      <td>X favor busco casa o departamento para arquila...</td>\n",
       "      <td>1</td>\n",
       "    </tr>\n",
       "    <tr>\n",
       "      <th>1302</th>\n",
       "      <td>Ya está alquilado?', 'Esta alquilado???'</td>\n",
       "      <td>1</td>\n",
       "    </tr>\n",
       "    <tr>\n",
       "      <th>1303</th>\n",
       "      <td>yo tengo un departamento', '3572 437960'</td>\n",
       "      <td>1</td>\n",
       "    </tr>\n",
       "  </tbody>\n",
       "</table>\n",
       "<p>1304 rows × 2 columns</p>\n",
       "</div>"
      ],
      "text/plain": [
       "                                             Comentario  Clasficacion\n",
       "0     ‼️Del 10 al 20 de Septiembre‼️\\nDisfruta del B...             0\n",
       "1     \"AHORA SI GUERRA CIVIL\"!\\nPor Favor oremos por...             0\n",
       "2     \"L' qui mi estudio di 20 anni non realiza lo v...             0\n",
       "3     ##La población Boliviana denuncia los dieferen...             0\n",
       "4     #AberturasAlCosto.\\nDirección Perú esquina Cos...             0\n",
       "...                                                 ...           ...\n",
       "1299                                              venta             1\n",
       "1300                   Vi esta pilar centro muy grande'             1\n",
       "1301  X favor busco casa o departamento para arquila...             1\n",
       "1302           Ya está alquilado?', 'Esta alquilado???'             1\n",
       "1303           yo tengo un departamento', '3572 437960'             1\n",
       "\n",
       "[1304 rows x 2 columns]"
      ]
     },
     "execution_count": 4,
     "metadata": {},
     "output_type": "execute_result"
    }
   ],
   "source": [
    "#Para trabajar mas comodo voy a convertir las palabras clasificatorias NO y SI en 0 y 1 respectivaente\n",
    "df=df.replace({'Clasficacion': {'NO': 0, 'SI': 1}})\n",
    "df"
   ]
  },
  {
   "cell_type": "code",
   "execution_count": 5,
   "metadata": {},
   "outputs": [
    {
     "data": {
      "text/plain": [
       "0    1018\n",
       "1     286\n",
       "Name: Clasficacion, dtype: int64"
      ]
     },
     "execution_count": 5,
     "metadata": {},
     "output_type": "execute_result"
    }
   ],
   "source": [
    "#Contamos la cantidad de veces en que se repiten las clasificaciones para determinar cuando desbalanceado esta el dataset\n",
    "df['Clasficacion'].value_counts() "
   ]
  },
  {
   "cell_type": "code",
   "execution_count": 6,
   "metadata": {},
   "outputs": [
    {
     "data": {
      "text/html": [
       "<div>\n",
       "<style scoped>\n",
       "    .dataframe tbody tr th:only-of-type {\n",
       "        vertical-align: middle;\n",
       "    }\n",
       "\n",
       "    .dataframe tbody tr th {\n",
       "        vertical-align: top;\n",
       "    }\n",
       "\n",
       "    .dataframe thead th {\n",
       "        text-align: right;\n",
       "    }\n",
       "</style>\n",
       "<table border=\"1\" class=\"dataframe\">\n",
       "  <thead>\n",
       "    <tr style=\"text-align: right;\">\n",
       "      <th></th>\n",
       "      <th>Comentario</th>\n",
       "      <th>Clasficacion</th>\n",
       "    </tr>\n",
       "  </thead>\n",
       "  <tbody>\n",
       "    <tr>\n",
       "      <th>0</th>\n",
       "      <td>‼️Del 10 al 20 de Septiembre‼️\\nDisfruta del B...</td>\n",
       "      <td>0</td>\n",
       "    </tr>\n",
       "    <tr>\n",
       "      <th>1</th>\n",
       "      <td>\"AHORA SI GUERRA CIVIL\"!\\nPor Favor oremos por...</td>\n",
       "      <td>0</td>\n",
       "    </tr>\n",
       "    <tr>\n",
       "      <th>2</th>\n",
       "      <td>\"L' qui mi estudio di 20 anni non realiza lo v...</td>\n",
       "      <td>0</td>\n",
       "    </tr>\n",
       "    <tr>\n",
       "      <th>3</th>\n",
       "      <td>##La población Boliviana denuncia los dieferen...</td>\n",
       "      <td>0</td>\n",
       "    </tr>\n",
       "    <tr>\n",
       "      <th>4</th>\n",
       "      <td>#AberturasAlCosto.\\nDirección Perú esquina Cos...</td>\n",
       "      <td>0</td>\n",
       "    </tr>\n",
       "    <tr>\n",
       "      <th>...</th>\n",
       "      <td>...</td>\n",
       "      <td>...</td>\n",
       "    </tr>\n",
       "    <tr>\n",
       "      <th>1299</th>\n",
       "      <td>venta</td>\n",
       "      <td>1</td>\n",
       "    </tr>\n",
       "    <tr>\n",
       "      <th>1300</th>\n",
       "      <td>Vi esta pilar centro muy grande'</td>\n",
       "      <td>1</td>\n",
       "    </tr>\n",
       "    <tr>\n",
       "      <th>1301</th>\n",
       "      <td>X favor busco casa o departamento para arquila...</td>\n",
       "      <td>1</td>\n",
       "    </tr>\n",
       "    <tr>\n",
       "      <th>1302</th>\n",
       "      <td>Ya está alquilado?', 'Esta alquilado???'</td>\n",
       "      <td>1</td>\n",
       "    </tr>\n",
       "    <tr>\n",
       "      <th>1303</th>\n",
       "      <td>yo tengo un departamento', '3572 437960'</td>\n",
       "      <td>1</td>\n",
       "    </tr>\n",
       "  </tbody>\n",
       "</table>\n",
       "<p>1304 rows × 2 columns</p>\n",
       "</div>"
      ],
      "text/plain": [
       "                                             Comentario  Clasficacion\n",
       "0     ‼️Del 10 al 20 de Septiembre‼️\\nDisfruta del B...             0\n",
       "1     \"AHORA SI GUERRA CIVIL\"!\\nPor Favor oremos por...             0\n",
       "2     \"L' qui mi estudio di 20 anni non realiza lo v...             0\n",
       "3     ##La población Boliviana denuncia los dieferen...             0\n",
       "4     #AberturasAlCosto.\\nDirección Perú esquina Cos...             0\n",
       "...                                                 ...           ...\n",
       "1299                                              venta             1\n",
       "1300                   Vi esta pilar centro muy grande'             1\n",
       "1301  X favor busco casa o departamento para arquila...             1\n",
       "1302           Ya está alquilado?', 'Esta alquilado???'             1\n",
       "1303           yo tengo un departamento', '3572 437960'             1\n",
       "\n",
       "[1304 rows x 2 columns]"
      ]
     },
     "execution_count": 6,
     "metadata": {},
     "output_type": "execute_result"
    }
   ],
   "source": [
    "df"
   ]
  },
  {
   "cell_type": "code",
   "execution_count": 7,
   "metadata": {},
   "outputs": [],
   "source": [
    "##Crearemos una funcion para limpiar y normalizar el dataset\n",
    "def cleanAndNorm(dfIn,columnStr):\n",
    "    \n",
    "    ##Reemplazaremos los \\n por un espacion\n",
    "    dfIn[columnStr]=dfIn[columnStr].str.replace('\\n',' ')\n",
    "    \n",
    "    #Lo llevamos a minusculas\n",
    "    dfIn[columnStr]=dfIn[columnStr].str.lower()\n",
    "    \n",
    "    #Normalizamos\n",
    "    dfIn[columnStr]=dfIn[columnStr].str.normalize('NFKD')\n",
    "    \n",
    "    #Encodeamos a ASCII ignorando los que no pueden ser reconocidos\n",
    "    dfIn[columnStr]=dfIn[columnStr].str.encode('ascii', errors='ignore')\n",
    "    \n",
    "    #Hacemos el decode a UTF-8 Estandar\n",
    "    dfIn[columnStr]=dfIn[columnStr].str.decode('utf-8')\n",
    "    \n",
    "    #Eliminamos espacios blancos iniciales y finales\n",
    "    dfIn[columnStr]=dfIn[columnStr].str.strip() \n",
    "    \n",
    "    #Removemos stopwords\n",
    "    sw = stopwords.words('spanish')\n",
    "    #dfIn[columnStr] = dfIn[columnStr].str.replace(\"|\".join(sw), \"\")\n",
    "    \n",
    "    #Removemos los caracteres especiales\n",
    "    #dfIn[columnStr] = dfIn[columnStr].str.replace(\"|\".join(punctuation), \"\")\n",
    "    \n",
    "    return dfIn"
   ]
  },
  {
   "cell_type": "code",
   "execution_count": 8,
   "metadata": {},
   "outputs": [
    {
     "data": {
      "text/html": [
       "<div>\n",
       "<style scoped>\n",
       "    .dataframe tbody tr th:only-of-type {\n",
       "        vertical-align: middle;\n",
       "    }\n",
       "\n",
       "    .dataframe tbody tr th {\n",
       "        vertical-align: top;\n",
       "    }\n",
       "\n",
       "    .dataframe thead th {\n",
       "        text-align: right;\n",
       "    }\n",
       "</style>\n",
       "<table border=\"1\" class=\"dataframe\">\n",
       "  <thead>\n",
       "    <tr style=\"text-align: right;\">\n",
       "      <th></th>\n",
       "      <th>Comentario</th>\n",
       "      <th>Clasficacion</th>\n",
       "    </tr>\n",
       "  </thead>\n",
       "  <tbody>\n",
       "    <tr>\n",
       "      <th>0</th>\n",
       "      <td>!!del 10 al 20 de septiembre!! disfruta del bo...</td>\n",
       "      <td>0</td>\n",
       "    </tr>\n",
       "    <tr>\n",
       "      <th>1</th>\n",
       "      <td>\"ahora si guerra civil\"! por favor oremos por ...</td>\n",
       "      <td>0</td>\n",
       "    </tr>\n",
       "    <tr>\n",
       "      <th>2</th>\n",
       "      <td>\"l' qui mi estudio di 20 anni non realiza lo v...</td>\n",
       "      <td>0</td>\n",
       "    </tr>\n",
       "    <tr>\n",
       "      <th>3</th>\n",
       "      <td>##la poblacion boliviana denuncia los dieferen...</td>\n",
       "      <td>0</td>\n",
       "    </tr>\n",
       "    <tr>\n",
       "      <th>4</th>\n",
       "      <td>#aberturasalcosto. direccion peru esquina cost...</td>\n",
       "      <td>0</td>\n",
       "    </tr>\n",
       "    <tr>\n",
       "      <th>...</th>\n",
       "      <td>...</td>\n",
       "      <td>...</td>\n",
       "    </tr>\n",
       "    <tr>\n",
       "      <th>1299</th>\n",
       "      <td>venta</td>\n",
       "      <td>1</td>\n",
       "    </tr>\n",
       "    <tr>\n",
       "      <th>1300</th>\n",
       "      <td>vi esta pilar centro muy grande'</td>\n",
       "      <td>1</td>\n",
       "    </tr>\n",
       "    <tr>\n",
       "      <th>1301</th>\n",
       "      <td>x favor busco casa o departamento para arquila...</td>\n",
       "      <td>1</td>\n",
       "    </tr>\n",
       "    <tr>\n",
       "      <th>1302</th>\n",
       "      <td>ya esta alquilado?', 'esta alquilado???'</td>\n",
       "      <td>1</td>\n",
       "    </tr>\n",
       "    <tr>\n",
       "      <th>1303</th>\n",
       "      <td>yo tengo un departamento', '3572 437960'</td>\n",
       "      <td>1</td>\n",
       "    </tr>\n",
       "  </tbody>\n",
       "</table>\n",
       "<p>1304 rows × 2 columns</p>\n",
       "</div>"
      ],
      "text/plain": [
       "                                             Comentario  Clasficacion\n",
       "0     !!del 10 al 20 de septiembre!! disfruta del bo...             0\n",
       "1     \"ahora si guerra civil\"! por favor oremos por ...             0\n",
       "2     \"l' qui mi estudio di 20 anni non realiza lo v...             0\n",
       "3     ##la poblacion boliviana denuncia los dieferen...             0\n",
       "4     #aberturasalcosto. direccion peru esquina cost...             0\n",
       "...                                                 ...           ...\n",
       "1299                                              venta             1\n",
       "1300                   vi esta pilar centro muy grande'             1\n",
       "1301  x favor busco casa o departamento para arquila...             1\n",
       "1302           ya esta alquilado?', 'esta alquilado???'             1\n",
       "1303           yo tengo un departamento', '3572 437960'             1\n",
       "\n",
       "[1304 rows x 2 columns]"
      ]
     },
     "execution_count": 8,
     "metadata": {},
     "output_type": "execute_result"
    }
   ],
   "source": [
    "#Limpiamos y normalizamos el dataset con la funcion previamente creada\n",
    "cldF=cleanAndNorm(df,'Comentario')\n",
    "cldF"
   ]
  },
  {
   "cell_type": "code",
   "execution_count": 9,
   "metadata": {},
   "outputs": [],
   "source": [
    "#Es hora de separar el conjunto de test y train\n",
    "X_train, X_test, y_train, y_test = train_test_split(cldF, cldF['Clasficacion'], test_size=0.3, random_state=0, stratify=cldF['Clasficacion'])"
   ]
  },
  {
   "cell_type": "code",
   "execution_count": 10,
   "metadata": {},
   "outputs": [
    {
     "name": "stdout",
     "output_type": "stream",
     "text": [
      "0    712\n",
      "1    200\n",
      "Name: Clasficacion, dtype: int64\n",
      "0    306\n",
      "1     86\n",
      "Name: Clasficacion, dtype: int64\n"
     ]
    }
   ],
   "source": [
    "#Revisare cuan balanceada me quedo el Split\n",
    "print(X_train['Clasficacion'].value_counts()) \n",
    "print(X_test['Clasficacion'].value_counts()) "
   ]
  },
  {
   "cell_type": "code",
   "execution_count": 11,
   "metadata": {
    "scrolled": true
   },
   "outputs": [],
   "source": [
    "# #Creamos el input Train del modelo - TXT\n",
    "f = open(trainPath, 'w')\n",
    "\n",
    "for row in X_train.itertuples():\n",
    "    f.write('__label__'+str(row.Clasficacion)+' '+row.Comentario + \"\\n\")\n",
    "f.close()"
   ]
  },
  {
   "cell_type": "code",
   "execution_count": 12,
   "metadata": {},
   "outputs": [],
   "source": [
    "# #Creamos el input Test del modelo - TXT\n",
    "f = open(testPath, 'w')\n",
    "\n",
    "for row in X_test.itertuples():\n",
    "    f.write('__label__'+str(row.Clasficacion)+' '+row.Comentario + \"\\n\")\n",
    "f.close()"
   ]
  },
  {
   "cell_type": "code",
   "execution_count": 13,
   "metadata": {},
   "outputs": [],
   "source": [
    "# #Creamos el input del modelo - Lista\n",
    "# inputModel=[]\n",
    "\n",
    "# for row in cldF.itertuples():\n",
    "#     inputModel.append('__label__'+str(row.Clasficacion)+' '+row.Comentario)\n",
    "    \n",
    "# inputModel"
   ]
  },
  {
   "cell_type": "code",
   "execution_count": 18,
   "metadata": {},
   "outputs": [],
   "source": [
    "def print_results(N, p, r):\n",
    "    print(\"Number of Examples\\t\" + str(N))\n",
    "    print(\"Precision@{}\\t{:.3f}\".format(1, p))\n",
    "    print(\"Recall@{}\\t{:.3f}\".format(1, r))"
   ]
  },
  {
   "cell_type": "code",
   "execution_count": 65,
   "metadata": {},
   "outputs": [],
   "source": [
    "#Entrenamos Modelo\n",
    "model = train_supervised(\n",
    "        input=trainPath, lr=0.5, epoch=25, wordNgrams=2, bucket=200000, dim=50, loss='hs'\n",
    "    )\n",
    "#lrs=[0.5, 0.1, 0.05], epochs = [10, 25, 50], ngrams = [1,2,3]\n"
   ]
  },
  {
   "cell_type": "code",
   "execution_count": 66,
   "metadata": {},
   "outputs": [
    {
     "name": "stdout",
     "output_type": "stream",
     "text": [
      "Number of Examples\t392\n",
      "Precision@1\t0.923\n",
      "Recall@1\t0.923\n"
     ]
    }
   ],
   "source": [
    "##Testeamos Precision\n",
    "print_results(*model.test(testPath))"
   ]
  },
  {
   "cell_type": "code",
   "execution_count": 130,
   "metadata": {},
   "outputs": [
    {
     "name": "stdout",
     "output_type": "stream",
     "text": [
      "(['__label__0', '__label__1', '__label__0', '__label__1', '__label__1'], array([0.95589507, 0.99988264, 0.69769007, 0.99999994, 0.63759392]))\n"
     ]
    }
   ],
   "source": [
    "#Predecimos\n",
    "texts = ['quiero alquilar una casa en toledo',\n",
    "         'quiero comprar una casa en pilar',\n",
    "         'quiero comprar un auto en pilar',\n",
    "         'busco alquiler en rio segundo',\n",
    "         'quiero comprar un perro en pilar']\n",
    "\n",
    "labels = model.predict(texts)\n",
    "print(labels)"
   ]
  },
  {
   "cell_type": "code",
   "execution_count": 131,
   "metadata": {},
   "outputs": [],
   "source": [
    "#Exportamos el modelo para reutulizar a futuro\n",
    "model.save_model(\"model_inmobiliara.ftz\")"
   ]
  }
 ],
 "metadata": {
  "kernelspec": {
   "display_name": "Python 3",
   "language": "python",
   "name": "python3"
  },
  "language_info": {
   "codemirror_mode": {
    "name": "ipython",
    "version": 3
   },
   "file_extension": ".py",
   "mimetype": "text/x-python",
   "name": "python",
   "nbconvert_exporter": "python",
   "pygments_lexer": "ipython3",
   "version": "3.7.5"
  }
 },
 "nbformat": 4,
 "nbformat_minor": 4
}
